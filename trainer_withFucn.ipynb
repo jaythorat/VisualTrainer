{
 "cells": [
  {
   "cell_type": "code",
   "execution_count": 10,
   "metadata": {},
   "outputs": [],
   "source": [
    "# Importing Libraries\n",
    "import pandas as pd\n",
    "import numpy as np"
   ]
  },
  {
   "cell_type": "markdown",
   "metadata": {},
   "source": [
    "## TODO'S : \n",
    "#### Add classification matrices for evaluation like Classification report and confusion matric by SKlearn\n",
    "#### Seperate classifiers and regression models\n",
    "#### Fine tune attributes of models for better outcome\n",
    "#### add methods to save the model and documentaion for reuse"
   ]
  },
  {
   "cell_type": "code",
   "execution_count": 11,
   "metadata": {},
   "outputs": [],
   "source": [
    "def get_features_labels():\n",
    "#     df = pd.read_csv(\"spam_ham_dataset.csv\")\n",
    "    df = pd.read_csv('winequality\\winequality-red.csv')\n",
    "#     df = pd.read_csv('cancer.csv')\n",
    "    keys = df.columns\n",
    "    for i in range(len(keys)):\n",
    "        print(f\"{i} - {keys[i]}\")\n",
    "    label = input(\"Enter column number which represents label : \")\n",
    "#     label = 11\n",
    "    feature = input(\"Enter column numbers which represents features seperated by comma\")\n",
    "#     feature_list = [0,1,2,3,4,5,6,7,8,9,10]\n",
    "    feature_list = feature.split(',')\n",
    "    \n",
    "    label_column = keys[int(label)]  \n",
    "    feature_columns = list()\n",
    "    for i in feature_list:\n",
    "        feature_columns.append(keys[int(i)])\n",
    "    return label_column,feature_columns,df"
   ]
  },
  {
   "cell_type": "code",
   "execution_count": 12,
   "metadata": {},
   "outputs": [
    {
     "name": "stdout",
     "output_type": "stream",
     "text": [
      "0 - fixed acidity\n",
      "1 - volatile acidity\n",
      "2 - citric acid\n",
      "3 - residual sugar\n",
      "4 - chlorides\n",
      "5 - free sulfur dioxide\n",
      "6 - total sulfur dioxide\n",
      "7 - density\n",
      "8 - pH\n",
      "9 - sulphates\n",
      "10 - alcohol\n",
      "11 - quality\n",
      "Enter column number which represents label : 11\n",
      "Enter column numbers which represents features seperated by comma0,1,2,3,4,5,6,7,8,9,10\n"
     ]
    }
   ],
   "source": [
    "def train_test_split():\n",
    "    label_column,feature_columns,df = get_features_labels()\n",
    "    Y = pd.DataFrame(df[label_column])\n",
    "    X = df[feature_columns]\n",
    "    \n",
    "    from sklearn.model_selection import train_test_split\n",
    "    X_train, X_test, Y_train, Y_test = train_test_split(X, Y, test_size=0.33, random_state=42)\n",
    "    return X_train,X_test,Y_train,Y_test, X, Y\n",
    "\n",
    "X_train,X_test,Y_train,Y_test, X, Y= train_test_split()"
   ]
  },
  {
   "cell_type": "code",
   "execution_count": 13,
   "metadata": {},
   "outputs": [],
   "source": [
    "Y_train = Y_train.values.flatten()\n",
    "Y_test = Y_test.values.flatten()"
   ]
  },
  {
   "cell_type": "code",
   "execution_count": 14,
   "metadata": {},
   "outputs": [],
   "source": [
    "def manual_accuracy_check(model_predictions):\n",
    "    correct = 0\n",
    "    for i in range(len(Y_test)):\n",
    "        if model_predictions[i] == Y_test[i]:\n",
    "            correct += 1\n",
    "    accuracy = (correct * 100)/len(Y_test)\n",
    "    print(f\"Accuracy is :\",accuracy,\"%\")"
   ]
  },
  {
   "cell_type": "code",
   "execution_count": 15,
   "metadata": {},
   "outputs": [
    {
     "name": "stdout",
     "output_type": "stream",
     "text": [
      "Accuracy is : 50.0 %\n"
     ]
    }
   ],
   "source": [
    "# KNN classifier\n",
    "#TODO :  Automate n_neighbours value for best outcome and tune other parameters for default and user defined values\n",
    "\n",
    "from sklearn.neighbors import KNeighborsClassifier\n",
    "for j in range(1,100):\n",
    "    neigh = KNeighborsClassifier(n_neighbors=35)\n",
    "    # Y_train = Y_train.to_numpy()\n",
    "    neigh.fit(X_train,Y_train)\n",
    "    KNN_predictions = neigh.predict(X_test)\n",
    "\n",
    "manual_accuracy_check(KNN_predictions)"
   ]
  },
  {
   "cell_type": "code",
   "execution_count": 16,
   "metadata": {},
   "outputs": [
    {
     "name": "stdout",
     "output_type": "stream",
     "text": [
      "Accuracy is : 54.734848484848484 %\n"
     ]
    }
   ],
   "source": [
    "# GAussian Naive Bayes Classifier\n",
    "#TODO : tune other parameters for default and user defined values\n",
    "\n",
    "from sklearn.naive_bayes import GaussianNB\n",
    "gnb = GaussianNB()\n",
    "gnb.fit(X_train,Y_train)\n",
    "gnb_predictions = gnb.predict(X_test)\n",
    "\n",
    "manual_accuracy_check(gnb_predictions)\n",
    "# gnb_predictions"
   ]
  },
  {
   "cell_type": "code",
   "execution_count": 17,
   "metadata": {},
   "outputs": [
    {
     "name": "stdout",
     "output_type": "stream",
     "text": [
      "Accuracy is : 54.734848484848484 %\n"
     ]
    }
   ],
   "source": [
    "# Random Forest classifier\n",
    "#TODO tune other parameters for default and user defined values line max_depth etc\n",
    "\n",
    "from sklearn.ensemble import RandomForestClassifier\n",
    "RFC = RandomForestClassifier(max_depth=2, random_state=0)\n",
    "RFC.fit(X_train,Y_train)\n",
    "RFC_predictions = RFC.predict(X_test)\n",
    "manual_accuracy_check(gnb_predictions)"
   ]
  },
  {
   "cell_type": "code",
   "execution_count": 18,
   "metadata": {},
   "outputs": [],
   "source": [
    "# DecisionTreeClassifier\n",
    "from sklearn.tree import DecisionTreeClassifier\n",
    "dtc = DecisionTreeClassifier(random_state=0)\n",
    "dtc.fit(X_train,Y_train)\n",
    "dtc_predictions = dtc.predict(X_test)"
   ]
  },
  {
   "cell_type": "code",
   "execution_count": 19,
   "metadata": {},
   "outputs": [
    {
     "data": {
      "text/html": [
       "<style>#sk-container-id-1 {color: black;background-color: white;}#sk-container-id-1 pre{padding: 0;}#sk-container-id-1 div.sk-toggleable {background-color: white;}#sk-container-id-1 label.sk-toggleable__label {cursor: pointer;display: block;width: 100%;margin-bottom: 0;padding: 0.3em;box-sizing: border-box;text-align: center;}#sk-container-id-1 label.sk-toggleable__label-arrow:before {content: \"▸\";float: left;margin-right: 0.25em;color: #696969;}#sk-container-id-1 label.sk-toggleable__label-arrow:hover:before {color: black;}#sk-container-id-1 div.sk-estimator:hover label.sk-toggleable__label-arrow:before {color: black;}#sk-container-id-1 div.sk-toggleable__content {max-height: 0;max-width: 0;overflow: hidden;text-align: left;background-color: #f0f8ff;}#sk-container-id-1 div.sk-toggleable__content pre {margin: 0.2em;color: black;border-radius: 0.25em;background-color: #f0f8ff;}#sk-container-id-1 input.sk-toggleable__control:checked~div.sk-toggleable__content {max-height: 200px;max-width: 100%;overflow: auto;}#sk-container-id-1 input.sk-toggleable__control:checked~label.sk-toggleable__label-arrow:before {content: \"▾\";}#sk-container-id-1 div.sk-estimator input.sk-toggleable__control:checked~label.sk-toggleable__label {background-color: #d4ebff;}#sk-container-id-1 div.sk-label input.sk-toggleable__control:checked~label.sk-toggleable__label {background-color: #d4ebff;}#sk-container-id-1 input.sk-hidden--visually {border: 0;clip: rect(1px 1px 1px 1px);clip: rect(1px, 1px, 1px, 1px);height: 1px;margin: -1px;overflow: hidden;padding: 0;position: absolute;width: 1px;}#sk-container-id-1 div.sk-estimator {font-family: monospace;background-color: #f0f8ff;border: 1px dotted black;border-radius: 0.25em;box-sizing: border-box;margin-bottom: 0.5em;}#sk-container-id-1 div.sk-estimator:hover {background-color: #d4ebff;}#sk-container-id-1 div.sk-parallel-item::after {content: \"\";width: 100%;border-bottom: 1px solid gray;flex-grow: 1;}#sk-container-id-1 div.sk-label:hover label.sk-toggleable__label {background-color: #d4ebff;}#sk-container-id-1 div.sk-serial::before {content: \"\";position: absolute;border-left: 1px solid gray;box-sizing: border-box;top: 0;bottom: 0;left: 50%;z-index: 0;}#sk-container-id-1 div.sk-serial {display: flex;flex-direction: column;align-items: center;background-color: white;padding-right: 0.2em;padding-left: 0.2em;position: relative;}#sk-container-id-1 div.sk-item {position: relative;z-index: 1;}#sk-container-id-1 div.sk-parallel {display: flex;align-items: stretch;justify-content: center;background-color: white;position: relative;}#sk-container-id-1 div.sk-item::before, #sk-container-id-1 div.sk-parallel-item::before {content: \"\";position: absolute;border-left: 1px solid gray;box-sizing: border-box;top: 0;bottom: 0;left: 50%;z-index: -1;}#sk-container-id-1 div.sk-parallel-item {display: flex;flex-direction: column;z-index: 1;position: relative;background-color: white;}#sk-container-id-1 div.sk-parallel-item:first-child::after {align-self: flex-end;width: 50%;}#sk-container-id-1 div.sk-parallel-item:last-child::after {align-self: flex-start;width: 50%;}#sk-container-id-1 div.sk-parallel-item:only-child::after {width: 0;}#sk-container-id-1 div.sk-dashed-wrapped {border: 1px dashed gray;margin: 0 0.4em 0.5em 0.4em;box-sizing: border-box;padding-bottom: 0.4em;background-color: white;}#sk-container-id-1 div.sk-label label {font-family: monospace;font-weight: bold;display: inline-block;line-height: 1.2em;}#sk-container-id-1 div.sk-label-container {text-align: center;}#sk-container-id-1 div.sk-container {/* jupyter's `normalize.less` sets `[hidden] { display: none; }` but bootstrap.min.css set `[hidden] { display: none !important; }` so we also need the `!important` here to be able to override the default hidden behavior on the sphinx rendered scikit-learn.org. See: https://github.com/scikit-learn/scikit-learn/issues/21755 */display: inline-block !important;position: relative;}#sk-container-id-1 div.sk-text-repr-fallback {display: none;}</style><div id=\"sk-container-id-1\" class=\"sk-top-container\"><div class=\"sk-text-repr-fallback\"><pre>DecisionTreeClassifier(random_state=0)</pre><b>In a Jupyter environment, please rerun this cell to show the HTML representation or trust the notebook. <br />On GitHub, the HTML representation is unable to render, please try loading this page with nbviewer.org.</b></div><div class=\"sk-container\" hidden><div class=\"sk-item\"><div class=\"sk-estimator sk-toggleable\"><input class=\"sk-toggleable__control sk-hidden--visually\" id=\"sk-estimator-id-1\" type=\"checkbox\" checked><label for=\"sk-estimator-id-1\" class=\"sk-toggleable__label sk-toggleable__label-arrow\">DecisionTreeClassifier</label><div class=\"sk-toggleable__content\"><pre>DecisionTreeClassifier(random_state=0)</pre></div></div></div></div></div>"
      ],
      "text/plain": [
       "DecisionTreeClassifier(random_state=0)"
      ]
     },
     "execution_count": 19,
     "metadata": {},
     "output_type": "execute_result"
    }
   ],
   "source": []
  },
  {
   "cell_type": "code",
   "execution_count": 20,
   "metadata": {},
   "outputs": [],
   "source": []
  },
  {
   "cell_type": "code",
   "execution_count": null,
   "metadata": {},
   "outputs": [],
   "source": []
  }
 ],
 "metadata": {
  "kernelspec": {
   "display_name": "Python 3 (ipykernel)",
   "language": "python",
   "name": "python3"
  },
  "language_info": {
   "codemirror_mode": {
    "name": "ipython",
    "version": 3
   },
   "file_extension": ".py",
   "mimetype": "text/x-python",
   "name": "python",
   "nbconvert_exporter": "python",
   "pygments_lexer": "ipython3",
   "version": "3.8.0"
  },
  "vscode": {
   "interpreter": {
    "hash": "a47dacbadd245f047ea2fa74883c4de512c993f2464db176bb69b5102f544d66"
   }
  }
 },
 "nbformat": 4,
 "nbformat_minor": 2
}
