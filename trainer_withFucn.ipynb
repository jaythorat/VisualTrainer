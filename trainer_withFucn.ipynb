{
 "cells": [
  {
   "cell_type": "code",
   "execution_count": 1,
   "metadata": {},
   "outputs": [],
   "source": [
    "# Importing Libraries\n",
    "import pandas as pd\n",
    "import numpy as np"
   ]
  },
  {
   "cell_type": "code",
   "execution_count": 48,
   "metadata": {},
   "outputs": [],
   "source": [
    "def get_features_labels():\n",
    "#     df = pd.read_csv(\"spam_ham_dataset.csv\")\n",
    "#     df = pd.read_csv('winequality\\winequality-white.csv')\n",
    "    df = pd.read_csv('cancer.csv')\n",
    "    keys = df.columns\n",
    "    for i in range(len(keys)):\n",
    "        print(f\"{i} - {keys[i]}\")\n",
    "    label = input(\"Enter column number which represents label : \")\n",
    "#     label = 11\n",
    "    feature = input(\"Enter column numbers which represents features seperated by comma\")\n",
    "#     feature_list = [0,1,2,3,4,5,6,7,8,9,10]\n",
    "    feature_list = feature.split(',')\n",
    "    \n",
    "    label_column = keys[int(label)]  \n",
    "    feature_columns = list()\n",
    "    for i in feature_list:\n",
    "        feature_columns.append(keys[int(i)])\n",
    "    return label_column,feature_columns,df"
   ]
  },
  {
   "cell_type": "code",
   "execution_count": 49,
   "metadata": {},
   "outputs": [
    {
     "name": "stdout",
     "output_type": "stream",
     "text": [
      "0 - Id\n",
      "1 - Clump_thickness\n",
      "2 - Uniformity_Cell_Size\n",
      "3 - Uniformity_Cell_Shape\n",
      "4 - Marginal_Adhesion\n",
      "5 - Single_Epithelial_Cell_Size\n",
      "6 - Bare_Nuclei\n",
      "7 - Bland_Chromatin\n",
      "8 - Normal_Nucleoli\n",
      "9 - Mitoses\n",
      "10 - Class\n",
      "Enter column number which represents label : 10\n",
      "Enter column numbers which represents features seperated by comma1,2,3,4,5,7,8,9\n"
     ]
    }
   ],
   "source": [
    "def train_test_split():\n",
    "    label_column,feature_columns,df = get_features_labels()\n",
    "    Y = pd.DataFrame(df[label_column])\n",
    "    X = df[feature_columns]\n",
    "    \n",
    "    from sklearn.model_selection import train_test_split\n",
    "    X_train, X_test, Y_train, Y_test = train_test_split(X, Y, test_size=0.2, random_state=42)\n",
    "    return X_train,X_test,Y_train,Y_test, X, Y\n",
    "\n",
    "X_train,X_test,Y_train,Y_test, X, Y= train_test_split()"
   ]
  },
  {
   "cell_type": "code",
   "execution_count": 50,
   "metadata": {},
   "outputs": [],
   "source": [
    "Y_train = Y_train.values.flatten()\n",
    "Y_test = Y_test.values.flatten()"
   ]
  },
  {
   "cell_type": "code",
   "execution_count": 51,
   "metadata": {},
   "outputs": [],
   "source": [
    "def manual_accuracy_check(model_predictions):\n",
    "    correct = 0\n",
    "    for i in range(len(Y_test)):\n",
    "        if model_predictions[i] == Y_test[i]:\n",
    "            correct += 1\n",
    "    accuracy = (correct * 100)/len(Y_test)\n",
    "    print(f\"Accuracy is :\",accuracy,\"%\")"
   ]
  },
  {
   "cell_type": "code",
   "execution_count": 52,
   "metadata": {},
   "outputs": [
    {
     "name": "stdout",
     "output_type": "stream",
     "text": [
      "Accuracy is : 97.14285714285714 %\n"
     ]
    }
   ],
   "source": [
    "# KNN classifier\n",
    "\n",
    "from sklearn.neighbors import KNeighborsClassifier\n",
    "for j in range(1,100):\n",
    "    neigh = KNeighborsClassifier(n_neighbors=35)\n",
    "    # Y_train = Y_train.to_numpy()\n",
    "    neigh.fit(X_train,Y_train)\n",
    "    KNN_predictions = neigh.predict(X_test)\n",
    "\n",
    "manual_accuracy_check(KNN_predictions)"
   ]
  },
  {
   "cell_type": "code",
   "execution_count": 53,
   "metadata": {},
   "outputs": [],
   "source": [
    "# neigh.predict([[5,1,1,1,2,3,1,1]])"
   ]
  },
  {
   "cell_type": "code",
   "execution_count": 54,
   "metadata": {},
   "outputs": [
    {
     "name": "stdout",
     "output_type": "stream",
     "text": [
      "Accuracy is : 96.42857142857143 %\n"
     ]
    }
   ],
   "source": [
    "# GAussian Naive Bayes Classifier\n",
    "from sklearn.naive_bayes import GaussianNB\n",
    "gnb = GaussianNB()\n",
    "gnb.fit(X_train,Y_train)\n",
    "gnb_predictions = gnb.predict(X_test)\n",
    "\n",
    "manual_accuracy_check(gnb_predictions)\n",
    "# gnb_predictions"
   ]
  }
 ],
 "metadata": {
  "kernelspec": {
   "display_name": "Python 3 (ipykernel)",
   "language": "python",
   "name": "python3"
  },
  "language_info": {
   "codemirror_mode": {
    "name": "ipython",
    "version": 3
   },
   "file_extension": ".py",
   "mimetype": "text/x-python",
   "name": "python",
   "nbconvert_exporter": "python",
   "pygments_lexer": "ipython3",
   "version": "3.8.0"
  },
  "vscode": {
   "interpreter": {
    "hash": "a47dacbadd245f047ea2fa74883c4de512c993f2464db176bb69b5102f544d66"
   }
  }
 },
 "nbformat": 4,
 "nbformat_minor": 2
}
