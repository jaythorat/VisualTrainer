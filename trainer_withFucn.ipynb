{
 "cells": [
  {
   "cell_type": "code",
   "execution_count": 25,
   "metadata": {},
   "outputs": [],
   "source": [
    "# Importing Libraries\n",
    "import pandas as pd\n",
    "import numpy as np"
   ]
  },
  {
   "cell_type": "code",
   "execution_count": 31,
   "metadata": {},
   "outputs": [],
   "source": [
    "def get_features_labels():\n",
    "#     df = pd.read_csv(\"spam_ham_dataset.csv\")\n",
    "    df = pd.read_csv('winequality\\winequality-red.csv')\n",
    "    keys = df.columns\n",
    "    for i in range(len(keys)):\n",
    "        print(f\"{i} - {keys[i]}\")\n",
    "    label = input(\"Enter column number which represents label : \")\n",
    "    feature = input(\"Enter column numbers which represents features seperated by comma\")\n",
    "    feature_list = feature.split(',')\n",
    "    \n",
    "    label_column = keys[int(label)]  \n",
    "    feature_columns = list()\n",
    "    for i in feature_list:\n",
    "        feature_columns.append(keys[int(i)])\n",
    "    return label_column,feature_columns,df"
   ]
  },
  {
   "cell_type": "code",
   "execution_count": 32,
   "metadata": {},
   "outputs": [],
   "source": [
    "def train_test_split():\n",
    "    label_column,feature_columns,df = get_features_labels()\n",
    "    Y = pd.DataFrame(df[label_column])\n",
    "    X = df[feature_columns]\n",
    "    \n",
    "    from sklearn.model_selection import train_test_split\n",
    "    X_train, X_test, Y_train, Y_test = train_test_split(X, Y, test_size=0.2, random_state=42)\n",
    "    return X_train,X_test,Y_train,Y_test"
   ]
  },
  {
   "cell_type": "code",
   "execution_count": 33,
   "metadata": {},
   "outputs": [
    {
     "name": "stdout",
     "output_type": "stream",
     "text": [
      "0 - fixed acidity\n",
      "1 - volatile acidity\n",
      "2 - citric acid\n",
      "3 - residual sugar\n",
      "4 - chlorides\n",
      "5 - free sulfur dioxide\n",
      "6 - total sulfur dioxide\n",
      "7 - density\n",
      "8 - pH\n",
      "9 - sulphates\n",
      "10 - alcohol\n",
      "11 - quality\n",
      "Enter column number which represents label : 11\n",
      "Enter column numbers which represents features seperated by comma0,1,2,3,4,5,6,7\n"
     ]
    },
    {
     "data": {
      "text/plain": [
       "(      fixed acidity  volatile acidity  citric acid  residual sugar  chlorides  \\\n",
       " 493             8.7             0.690         0.31             3.0      0.086   \n",
       " 354             6.1             0.210         0.40             1.4      0.066   \n",
       " 342            10.9             0.390         0.47             1.8      0.118   \n",
       " 834             8.8             0.685         0.26             1.6      0.088   \n",
       " 705             8.4             1.035         0.15             6.0      0.073   \n",
       " ...             ...               ...          ...             ...        ...   \n",
       " 1130            9.1             0.600         0.00             1.9      0.058   \n",
       " 1294            8.2             0.635         0.10             2.1      0.073   \n",
       " 860             7.2             0.620         0.06             2.7      0.077   \n",
       " 1459            7.9             0.200         0.35             1.7      0.054   \n",
       " 1126            5.8             0.290         0.26             1.7      0.063   \n",
       " \n",
       "       free sulfur dioxide  total sulfur dioxide  density  \n",
       " 493                  23.0                  81.0  1.00020  \n",
       " 354                  40.5                 165.0  0.99120  \n",
       " 342                   6.0                  14.0  0.99820  \n",
       " 834                  16.0                  23.0  0.99694  \n",
       " 705                  11.0                  54.0  0.99900  \n",
       " ...                   ...                   ...      ...  \n",
       " 1130                  5.0                  10.0  0.99770  \n",
       " 1294                 25.0                  60.0  0.99638  \n",
       " 860                  15.0                  85.0  0.99746  \n",
       " 1459                  7.0                  15.0  0.99458  \n",
       " 1126                  3.0                  11.0  0.99150  \n",
       " \n",
       " [1279 rows x 8 columns],\n",
       "       fixed acidity  volatile acidity  citric acid  residual sugar  chlorides  \\\n",
       " 803             7.7             0.560         0.08            2.50      0.114   \n",
       " 124             7.8             0.500         0.17            1.60      0.082   \n",
       " 350            10.7             0.670         0.22            2.70      0.107   \n",
       " 682             8.5             0.460         0.31            2.25      0.078   \n",
       " 1326            6.7             0.460         0.24            1.70      0.077   \n",
       " ...             ...               ...          ...             ...        ...   \n",
       " 1259            6.8             0.640         0.00            2.70      0.123   \n",
       " 1295            6.6             0.630         0.00            4.30      0.093   \n",
       " 1155            8.3             0.600         0.25            2.20      0.118   \n",
       " 963             8.8             0.270         0.39            2.00      0.100   \n",
       " 704             9.1             0.765         0.04            1.60      0.078   \n",
       " \n",
       "       free sulfur dioxide  total sulfur dioxide  density  \n",
       " 803                  14.0                  46.0  0.99710  \n",
       " 124                  21.0                 102.0  0.99600  \n",
       " 350                  17.0                  34.0  1.00040  \n",
       " 682                  32.0                  58.0  0.99800  \n",
       " 1326                 18.0                  34.0  0.99480  \n",
       " ...                   ...                   ...      ...  \n",
       " 1259                 15.0                  33.0  0.99538  \n",
       " 1295                 51.0                  77.5  0.99558  \n",
       " 1155                  9.0                  38.0  0.99616  \n",
       " 963                  20.0                  27.0  0.99546  \n",
       " 704                   4.0                  14.0  0.99800  \n",
       " \n",
       " [320 rows x 8 columns],\n",
       "       quality\n",
       " 493         6\n",
       " 354         6\n",
       " 342         6\n",
       " 834         5\n",
       " 705         5\n",
       " ...       ...\n",
       " 1130        6\n",
       " 1294        6\n",
       " 860         5\n",
       " 1459        7\n",
       " 1126        6\n",
       " \n",
       " [1279 rows x 1 columns],\n",
       "       quality\n",
       " 803         6\n",
       " 124         5\n",
       " 350         6\n",
       " 682         5\n",
       " 1326        6\n",
       " ...       ...\n",
       " 1259        6\n",
       " 1295        5\n",
       " 1155        5\n",
       " 963         6\n",
       " 704         4\n",
       " \n",
       " [320 rows x 1 columns])"
      ]
     },
     "execution_count": 33,
     "metadata": {},
     "output_type": "execute_result"
    }
   ],
   "source": [
    "train_test_split()"
   ]
  },
  {
   "cell_type": "code",
   "execution_count": null,
   "metadata": {},
   "outputs": [],
   "source": []
  }
 ],
 "metadata": {
  "kernelspec": {
   "display_name": "Python 3 (ipykernel)",
   "language": "python",
   "name": "python3"
  },
  "language_info": {
   "codemirror_mode": {
    "name": "ipython",
    "version": 3
   },
   "file_extension": ".py",
   "mimetype": "text/x-python",
   "name": "python",
   "nbconvert_exporter": "python",
   "pygments_lexer": "ipython3",
   "version": "3.8.0"
  },
  "vscode": {
   "interpreter": {
    "hash": "a47dacbadd245f047ea2fa74883c4de512c993f2464db176bb69b5102f544d66"
   }
  }
 },
 "nbformat": 4,
 "nbformat_minor": 2
}
