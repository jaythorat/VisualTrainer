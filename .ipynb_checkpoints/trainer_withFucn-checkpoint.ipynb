{
 "cells": [
  {
   "cell_type": "markdown",
   "metadata": {},
   "source": [
    "## TODO'S : \n",
    "#### Add classification matrices for evaluation like Classification report and confusion matric by SKlearn\n",
    "#### Seperate classifiers and regression models\n",
    "#### Fine tune attributes of models for better outcome\n",
    "#### add methods to save the model and documentaion for reuse\n",
    "#### ADD SUPPORT FOR TEXUAL DATA IN THE COLUMNS\n"
   ]
  },
  {
   "cell_type": "code",
   "execution_count": 1,
   "metadata": {},
   "outputs": [],
   "source": [
    "# Importing Libraries\n",
    "import pandas as pd\n",
    "import numpy as np\n",
    "from sklearn.metrics import accuracy_score  "
   ]
  },
  {
   "cell_type": "code",
   "execution_count": 2,
   "metadata": {},
   "outputs": [],
   "source": [
    "def get_features_labels():\n",
    "#     df = pd.read_csv(\"spam_ham_dataset.csv\")\n",
    "#     df = pd.read_csv('winequality\\winequality-white.csv')\n",
    "#     df = pd.read_csv('Occupancy_Estimation.csv')\n",
    "    df = pd.read_csv('sepsis_survival.csv')\n",
    "#     df = pd.read_csv(\"Tetuan_City_power_consumption.csv\")\n",
    "#     df = pd.read_csv('iris.csv')\n",
    "    keys = df.columns\n",
    "    for i in range(len(keys)):\n",
    "        print(f\"{i} - {keys[i]}\")\n",
    "    label = input(\"Enter column number which represents label : \")\n",
    "#     label = 11\n",
    "    feature = input(\"Enter column numbers which represents features seperated by comma\")\n",
    "#     feature_list = [0,1,2,3,4,5,6,7,8,9,10]\n",
    "    feature_list = feature.split(',')\n",
    "    \n",
    "    label_column = keys[int(label)]  \n",
    "    feature_columns = list()\n",
    "    for i in feature_list:\n",
    "        feature_columns.append(keys[int(i)])\n",
    "    return label_column,feature_columns,df"
   ]
  },
  {
   "cell_type": "code",
   "execution_count": 3,
   "metadata": {},
   "outputs": [
    {
     "name": "stdout",
     "output_type": "stream",
     "text": [
      "0 - age_years\n",
      "1 - sex_0male_1female\n",
      "2 - episode_number\n",
      "3 - hospital_outcome_1alive_0dead\n",
      "Enter column number which represents label : 3\n",
      "Enter column numbers which represents features seperated by comma0,1,2\n"
     ]
    }
   ],
   "source": [
    "def train_test_split():\n",
    "    label_column,feature_columns,df = get_features_labels()\n",
    "    Y = pd.DataFrame(df[label_column])\n",
    "    X = df[feature_columns]\n",
    "    from sklearn.model_selection import train_test_split\n",
    "    X_train, X_test, Y_train, Y_test = train_test_split(X, Y, test_size=0.33, random_state=42)\n",
    "    return X_train,X_test,Y_train,Y_test, X, Y\n",
    "\n",
    "X_train,X_test,Y_train,Y_test, X, Y= train_test_split()"
   ]
  },
  {
   "cell_type": "code",
   "execution_count": 4,
   "metadata": {},
   "outputs": [],
   "source": [
    "Y_train = Y_train.values.flatten()\n",
    "Y_test = Y_test.values.flatten()"
   ]
  },
  {
   "cell_type": "code",
   "execution_count": 5,
   "metadata": {},
   "outputs": [],
   "source": [
    "def manual_accuracy_check(model_predictions):\n",
    "    correct = 0\n",
    "    for i in range(len(Y_test)):\n",
    "        if model_predictions[i] == Y_test[i]:\n",
    "            correct += 1\n",
    "    accuracy = (correct * 100)/len(Y_test)\n",
    "    print(f\"Accuracy is :\",accuracy,\"%\")"
   ]
  },
  {
   "cell_type": "markdown",
   "metadata": {},
   "source": [
    "# Classification"
   ]
  },
  {
   "cell_type": "code",
   "execution_count": 8,
   "metadata": {},
   "outputs": [
    {
     "name": "stdout",
     "output_type": "stream",
     "text": [
      "Accuracy is : 92.73262208534976 %\n"
     ]
    }
   ],
   "source": [
    "# KNN classifier\n",
    "#TODO :  Automate n_neighbours value for best outcome and tune other parameters for default and user defined values\n",
    "\n",
    "from sklearn.neighbors import KNeighborsClassifier\n",
    "\n",
    "neigh = KNeighborsClassifier(n_neighbors=269)\n",
    "# Y_train = Y_train.to_numpy()\n",
    "neigh.fit(X_train,Y_train)\n",
    "KNN_predictions = neigh.predict(X_test)\n",
    "\n",
    "manual_accuracy_check(KNN_predictions)"
   ]
  },
  {
   "cell_type": "code",
   "execution_count": 9,
   "metadata": {},
   "outputs": [
    {
     "name": "stdout",
     "output_type": "stream",
     "text": [
      "Accuracy is : 92.73262208534976 %\n"
     ]
    }
   ],
   "source": [
    "# GAussian Naive Bayes Classifier\n",
    "#TODO : tune other parameters for default and user defined values\n",
    "\n",
    "from sklearn.naive_bayes import GaussianNB\n",
    "gnb = GaussianNB()\n",
    "gnb.fit(X_train,Y_train)\n",
    "gnb_predictions = gnb.predict(X_test)\n",
    "\n",
    "manual_accuracy_check(gnb_predictions)\n",
    "# gnb_predictions"
   ]
  },
  {
   "cell_type": "code",
   "execution_count": 10,
   "metadata": {},
   "outputs": [
    {
     "name": "stdout",
     "output_type": "stream",
     "text": [
      "Accuracy is : 92.73262208534976 %\n"
     ]
    }
   ],
   "source": [
    "# Random Forest classifier\n",
    "#TODO tune other parameters for default and user defined values line max_depth etc\n",
    "\n",
    "from sklearn.ensemble import RandomForestClassifier\n",
    "rfc = RandomForestClassifier(max_depth=2, random_state=0)\n",
    "rfc.fit(X_train,Y_train)\n",
    "rfc_predictions = rfc.predict(X_test)\n",
    "manual_accuracy_check(rfc_predictions)"
   ]
  },
  {
   "cell_type": "code",
   "execution_count": 11,
   "metadata": {},
   "outputs": [
    {
     "name": "stdout",
     "output_type": "stream",
     "text": [
      "Accuracy is : 92.69412670479542 %\n",
      "0.9269412670479542\n"
     ]
    }
   ],
   "source": [
    "# DecisionTreeClassifier\n",
    "from sklearn.tree import DecisionTreeClassifier\n",
    "dtc = DecisionTreeClassifier(random_state=0)\n",
    "dtc.fit(X_train,Y_train)\n",
    "dtc_predictions = dtc.predict(X_test)\n",
    "manual_accuracy_check(dtc_predictions)\n",
    "print(accuracy_score(Y_test,dtc_predictions))"
   ]
  },
  {
   "cell_type": "code",
   "execution_count": 12,
   "metadata": {},
   "outputs": [
    {
     "name": "stdout",
     "output_type": "stream",
     "text": [
      "Accuracy is : 92.73262208534976 %\n",
      "None\n",
      "0.9273262208534976\n"
     ]
    }
   ],
   "source": [
    "# GradientBoostingClassifier\n",
    "#TODO tune other parameters for default and user defined values like n_estimators ,LR, etc\n",
    "from sklearn.ensemble import GradientBoostingClassifier\n",
    "gbc = GradientBoostingClassifier(n_estimators=100, learning_rate=1.0,max_depth=1, random_state=0)\n",
    "gbc.fit(X_train,Y_train)\n",
    "gbc_predictions = gbc.predict(X_test)\n",
    "print(manual_accuracy_check(gbc_predictions))\n",
    "print(accuracy_score(Y_test,gbc_predictions))"
   ]
  },
  {
   "cell_type": "code",
   "execution_count": 63,
   "metadata": {},
   "outputs": [],
   "source": [
    "#Predict the response for test dataset\n",
    "# from sklearn import svm\n",
    "# from sklearn.svm import SVC\n",
    "\n",
    "# #Create a svm Classifier\n",
    "# svm = svm.SVC(kernel='linear') # Linear Kernel\n",
    "\n",
    "# #Train the model using the training sets\n",
    "# svm.fit(X_train, Y_train)\n",
    "\n"
   ]
  },
  {
   "cell_type": "code",
   "execution_count": 64,
   "metadata": {},
   "outputs": [
    {
     "data": {
      "text/plain": [
       "0.9892312294346396"
      ]
     },
     "execution_count": 64,
     "metadata": {},
     "output_type": "execute_result"
    }
   ],
   "source": [
    "#Support Vector Classifier\n",
    "# TODO : add support to another kernels like sigmoidal, linear etc\n",
    "from sklearn.svm import SVC\n",
    "svc = SVC(gamma='auto')\n",
    "svc.fit(X_train,Y_train)\n",
    "svc_predictions = svc.predict(X_test)\n",
    "accuracy_score(Y_test,svc_predictions)\n"
   ]
  },
  {
   "cell_type": "markdown",
   "metadata": {},
   "source": [
    "# Regression Models\n",
    "### TO complete it later"
   ]
  },
  {
   "cell_type": "code",
   "execution_count": 43,
   "metadata": {},
   "outputs": [],
   "source": [
    "# Linear regression\n",
    "from sklearn.linear_model import LinearRegression\n",
    "lr = LinearRegression()\n",
    "lr.fit(X_train,Y_train)\n",
    "lr_predictions = lr.predict(X_test)\n",
    "\n",
    "# lr.score(X_test,Y_test)"
   ]
  },
  {
   "cell_type": "code",
   "execution_count": null,
   "metadata": {},
   "outputs": [],
   "source": []
  }
 ],
 "metadata": {
  "kernelspec": {
   "display_name": "Python 3 (ipykernel)",
   "language": "python",
   "name": "python3"
  },
  "language_info": {
   "codemirror_mode": {
    "name": "ipython",
    "version": 3
   },
   "file_extension": ".py",
   "mimetype": "text/x-python",
   "name": "python",
   "nbconvert_exporter": "python",
   "pygments_lexer": "ipython3",
   "version": "3.8.0"
  },
  "vscode": {
   "interpreter": {
    "hash": "a47dacbadd245f047ea2fa74883c4de512c993f2464db176bb69b5102f544d66"
   }
  }
 },
 "nbformat": 4,
 "nbformat_minor": 2
}
